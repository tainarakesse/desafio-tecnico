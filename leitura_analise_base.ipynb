{
 "cells": [
  {
   "cell_type": "code",
   "execution_count": 7,
   "metadata": {},
   "outputs": [],
   "source": [
    "import warnings\n",
    "from pyspark.sql import SparkSession\n",
    "from pyspark.sql.functions import mean, stddev, col, abs, split, explode, count, when, sum, countDistinct\n",
    "import traceback\n",
    "warnings.filterwarnings(\"ignore\")"
   ]
  },
  {
   "cell_type": "code",
   "execution_count": 8,
   "metadata": {},
   "outputs": [],
   "source": [
    "caminho_jar = \"C:\\\\Spark\\\\jars\\\\postgresql-42.7.3.jar\" "
   ]
  },
  {
   "cell_type": "code",
   "execution_count": 9,
   "metadata": {},
   "outputs": [],
   "source": [
    "spark = SparkSession.builder \\\n",
    "                    .appName('yelp_data') \\\n",
    "                    .config(\"spark.executor.memory\", \"2g\") \\\n",
    "                    .config(\"spark.sql.shuffle.partitions\", \"4\") \\\n",
    "                    .config(\"spark.driver.extraClassPath\", caminho_jar) \\\n",
    "                    .config(\"spark.executor.extraClassPath\", caminho_jar) \\\n",
    "                    .getOrCreate()\n"
   ]
  },
  {
   "cell_type": "code",
   "execution_count": 10,
   "metadata": {},
   "outputs": [],
   "source": [
    "#import yelp review data into dataframe\n",
    "yelp_review = spark.read.json(\"./data/yelp_academic_dataset_review.json\")\n",
    "# import yelp business data into dataframe\n",
    "yelp_business = spark.read.json('./data/yelp_academic_dataset_business.json')\n",
    "# import yelp user data into dataframe\n",
    "yelp_user = spark.read.json('./data/yelp_academic_dataset_user.json')\n",
    "# import yelp tip data into dataframe\n",
    "yelp_tip = spark.read.json('./data/yelp_academic_dataset_tip.json')\n",
    "# import yelp checkin data into dataframe\n",
    "yelp_checkin = spark.read.json('./data/yelp_academic_dataset_checkin.json')"
   ]
  },
  {
   "cell_type": "code",
   "execution_count": 11,
   "metadata": {},
   "outputs": [],
   "source": [
    "# yelp_review.printSchema()\n",
    "# yelp_business.printSchema()\n",
    "# yelp_user.printSchema()\n",
    "# yelp_tip.printSchema()\n",
    "# yelp_checkin.printSchema()"
   ]
  },
  {
   "cell_type": "code",
   "execution_count": 12,
   "metadata": {},
   "outputs": [
    {
     "name": "stdout",
     "output_type": "stream",
     "text": [
      "Tamanho da base de dados yelp_review: 6990280\n",
      "Tamanho da base de dados yelp_business: 150346\n",
      "Tamanho da base de dados yelp_user: 1987897\n",
      "Tamanho da base de dados yelp_tip: 908915\n",
      "Tamanho da base de dados yelp_checkin: 131930\n"
     ]
    }
   ],
   "source": [
    "cont_yelp_review = yelp_review.count() #review = 6990280\n",
    "print(\"Tamanho da base de dados yelp_review:\", cont_yelp_review)\n",
    "cont_yelp_business = yelp_business.count() #business = 150346\n",
    "print(\"Tamanho da base de dados yelp_business:\", cont_yelp_business)\n",
    "cont_yelp_user = yelp_user.count() #user = 1987897\n",
    "print(\"Tamanho da base de dados yelp_user:\", cont_yelp_user)\n",
    "cont_yelp_tip = yelp_tip.count() #tip = 908915\n",
    "print(\"Tamanho da base de dados yelp_tip:\", cont_yelp_tip)\n",
    "cont_yelp_checkin = yelp_checkin.count() #checkin = 131930\n",
    "print(\"Tamanho da base de dados yelp_checkin:\", cont_yelp_checkin)\n"
   ]
  },
  {
   "cell_type": "code",
   "execution_count": 13,
   "metadata": {},
   "outputs": [
    {
     "name": "stdout",
     "output_type": "stream",
     "text": [
      "+--------------------+--------------------+--------------------+--------------------+--------------+--------------------+-------+-------------+--------------+--------------------+-----------+------------+-----+-----+\n",
      "|             address|          attributes|         business_id|          categories|          city|               hours|is_open|     latitude|     longitude|                name|postal_code|review_count|stars|state|\n",
      "+--------------------+--------------------+--------------------+--------------------+--------------+--------------------+-------+-------------+--------------+--------------------+-----------+------------+-----+-----+\n",
      "|1616 Chapala St, ...|{NULL, NULL, NULL...|Pns2l4eNsfO8kk83d...|Doctors, Traditio...| Santa Barbara|                NULL|      0|   34.4266787|  -119.7111968|Abby Rappoport, L...|      93101|           7|  5.0|   CA|\n",
      "|87 Grasso Plaza S...|{NULL, NULL, NULL...|mpf3x-BjTdTEA3yCZ...|Shipping Centers,...|        Affton|{8:0-18:30, 0:0-0...|      1|    38.551126|    -90.335695|       The UPS Store|      63123|          15|  3.0|   MO|\n",
      "|5255 E Broadway Blvd|{NULL, NULL, NULL...|tUFrWirKiKi_TAnsV...|Department Stores...|        Tucson|{8:0-23:0, 8:0-22...|      0|    32.223236|   -110.880452|              Target|      85711|          22|  3.5|   AZ|\n",
      "|         935 Race St|{NULL, NULL, u'no...|MTSW4McQd7CbVtyjq...|Restaurants, Food...|  Philadelphia|{7:0-21:0, 7:0-20...|      1|   39.9555052|   -75.1555641|  St Honore Pastries|      19107|          80|  4.0|   PA|\n",
      "|       101 Walnut St|{NULL, NULL, NULL...|mWMc6_wTdE0EUBKIG...|Brewpubs, Breweri...|    Green Lane|{12:0-22:0, NULL,...|      1|   40.3381827|   -75.4716585|Perkiomen Valley ...|      18054|          13|  4.5|   PA|\n",
      "|       615 S Main St|{NULL, NULL, u'no...|CF33F8-E6oudUQ46H...|Burgers, Fast Foo...|  Ashland City|{9:0-0:0, 0:0-0:0...|      1|    36.269593|    -87.058943|      Sonic Drive-In|      37015|           6|  2.0|   TN|\n",
      "|8522 Eager Road, ...|{NULL, NULL, NULL...|n_0UpQx1hsNbnPUSl...|Sporting Goods, F...|     Brentwood|{10:0-18:0, 0:0-0...|      1|    38.627695|    -90.340465|     Famous Footwear|      63144|          13|  2.5|   MO|\n",
      "|  400 Pasadena Ave S|                NULL|qkRM_2X51Yqxk3btl...|Synagogues, Relig...|St. Petersburg|{9:0-17:0, 9:0-17...|      1|     27.76659|    -82.732983|      Temple Beth-El|      33707|           5|  3.5|   FL|\n",
      "|   8025 Mackenzie Rd|{NULL, NULL, u'fu...|k0hlBqXX-Bt0vf1op...|Pubs, Restaurants...|        Affton|                NULL|      0|   38.5651648|   -90.3210868|Tsevi's Pub And G...|      63123|          19|  3.0|   MO|\n",
      "| 2312 Dickerson Pike|{NULL, NULL, u'no...|bBDDEgkFA1Otx9Lfe...|Ice Cream & Froze...|     Nashville|{6:0-16:0, 0:0-0:...|      1|   36.2081024|   -86.7681696|      Sonic Drive-In|      37207|          10|  1.5|   TN|\n",
      "|21705 Village Lak...|{NULL, NULL, NULL...|UJsufbvfyfONHeWdv...|Department Stores...| Land O' Lakes|{9:30-21:30, 9:30...|      1|28.1904587953|-82.4573802199|           Marshalls|      34639|           6|  3.5|   FL|\n",
      "|                    |{NULL, NULL, 'non...|eEOYSgkmpB90uNA7l...|Vietnamese, Food,...|     Tampa Bay|{11:0-14:0, 11:0-...|      1|   27.9552692|   -82.4563199|Vietnamese Food T...|      33602|          10|  4.0|   FL|\n",
      "|        8901 US 31 S|{NULL, NULL, 'non...|il_Ro8jwPlHresjw9...|American (Traditi...|  Indianapolis|{6:0-22:0, 6:0-22...|      1|39.6371332838| -86.127217412|             Denny's|      46227|          28|  2.5|   IN|\n",
      "|   15 N Missouri Ave|{NULL, NULL, NULL...|jaxMSoInw8Poo3XeM...|General Dentistry...|    Clearwater|{NULL, 7:30-15:30...|      1|    27.966235|    -82.787412|        Adams Dental|      33755|          10|  5.0|   FL|\n",
      "|       2575 E Bay Dr|{NULL, NULL, u'no...|0bPLkL0QhhPO5kt1_...|Food, Delis, Ital...|         Largo|{10:0-20:0, 10:0-...|      0|   27.9161159|   -82.7604608|Zio's Italian Market|      33771|         100|  4.5|   FL|\n",
      "|         205 Race St|{NULL, NULL, 'ful...|MUTTqe8uqyMdBl186...|Sushi Bars, Resta...|  Philadelphia|{13:30-23:0, NULL...|      1|    39.953949|   -75.1432262|            Tuna Bar|      19106|         245|  4.0|   PA|\n",
      "|     625 N Stone Ave|{NULL, NULL, NULL...|rBmpy_Y1UbBx8ggHl...|Automotive, Auto ...|        Tucson|{8:0-17:0, 0:0-0:...|      1|   32.2298719|  -110.9723419|Arizona Truck Out...|      85705|          10|  4.5|   AZ|\n",
      "|        712 Adams St|{NULL, NULL, NULL...|M0XSSHqrASOnhgbWD...|Vape Shops, Tobac...|   New Orleans|{10:0-19:0, 10:0-...|      1|29.9414679565| -90.129952757|      Herb Import Co|      70118|           5|  4.0|   LA|\n",
      "|     1241 Airline Dr|                NULL|8wGISYjYkE2tSqn3c...|Automotive, Car R...|        Kenner|{8:0-17:0, 8:0-17...|      1|    29.981183|   -90.2540123|    Nifty Car Rental|      70062|          14|  3.5|   LA|\n",
      "|       1224 South St|{NULL, NULL, u'no...|ROeacJQwBeh05Rqg7...| Korean, Restaurants|  Philadelphia|{11:30-20:30, 11:...|      1|    39.943223|    -75.162568|                 BAP|      19147|         205|  4.5|   PA|\n",
      "+--------------------+--------------------+--------------------+--------------------+--------------+--------------------+-------+-------------+--------------+--------------------+-----------+------------+-----+-----+\n",
      "only showing top 20 rows\n",
      "\n"
     ]
    }
   ],
   "source": [
    "yelp_business.show()"
   ]
  },
  {
   "cell_type": "code",
   "execution_count": 14,
   "metadata": {},
   "outputs": [
    {
     "name": "stdout",
     "output_type": "stream",
     "text": [
      "+-----------------+-----+\n",
      "|category         |count|\n",
      "+-----------------+-----+\n",
      "| Restaurants     |36978|\n",
      "| Food            |20998|\n",
      "| Shopping        |18915|\n",
      "|Restaurants      |15290|\n",
      "| Home Services   |10563|\n",
      "| Nightlife       |9990 |\n",
      "| Beauty & Spas   |9907 |\n",
      "| Bars            |9130 |\n",
      "| Health & Medical|8832 |\n",
      "| Local Services  |8556 |\n",
      "+-----------------+-----+\n",
      "only showing top 10 rows\n",
      "\n"
     ]
    }
   ],
   "source": [
    "business_sem_nulos = yelp_business.filter(yelp_business['categories'].isNotNull())\n",
    "category = business_sem_nulos.select('categories')\n",
    "individual_category = business_sem_nulos.select(explode(split('categories', ',')).alias('category'))\n",
    "grouped_category = individual_category.groupby('category').count()\n",
    "top_category = grouped_category.sort('count',ascending=False)\n",
    "top_category.show(10,truncate=False)"
   ]
  },
  {
   "cell_type": "code",
   "execution_count": 15,
   "metadata": {},
   "outputs": [
    {
     "name": "stdout",
     "output_type": "stream",
     "text": [
      "Number of Unique Categories: 1311\n"
     ]
    }
   ],
   "source": [
    "#Obtendo a quantidade de categorias \n",
    "num_of_unique_categories = business_sem_nulos.select('business_id','categories').withColumn(\"categories\", explode(split(\"categories\", \", \"))).select('categories').distinct().count()\n",
    "print(f'Number of Unique Categories: {num_of_unique_categories}')"
   ]
  },
  {
   "cell_type": "code",
   "execution_count": 16,
   "metadata": {},
   "outputs": [],
   "source": [
    "#Separando as categorias por linha\n",
    "business_exploded = business_sem_nulos.select('*',explode(split(\"categories\", \", \")).alias('category'))\n",
    "# business_exploded.show()"
   ]
  },
  {
   "cell_type": "code",
   "execution_count": 17,
   "metadata": {},
   "outputs": [],
   "source": [
    "#Obtendo exemplos de business_id\n",
    "# business_exploded.select('business_id').collect()\n",
    "\n",
    "# Visualizando aparição do businnes_id por categoria\n",
    "# business_exploded.filter(business_exploded['business_id']=='Ucl9Vo5lwrUmYbV8Dv8X5g').show()"
   ]
  },
  {
   "cell_type": "code",
   "execution_count": 18,
   "metadata": {},
   "outputs": [],
   "source": [
    "#Matendo apenas a primeira categoria para o business_id\n",
    "business_sem_duplicatas = business_exploded.select('*').dropDuplicates(['business_id'])\n",
    "\n",
    "#Visualizando o dataframe sem as duplicidades\n",
    "# business_sem_duplicatas.filter(business_sem_duplicatas['business_id']=='Ucl9Vo5lwrUmYbV8Dv8X5g').show()\n",
    "# business_sem_duplicatas.show()"
   ]
  },
  {
   "cell_type": "code",
   "execution_count": 19,
   "metadata": {},
   "outputs": [],
   "source": [
    "# colunas_atributos = business_sem_duplicatas.select('attributes.*').columns\n",
    "# #Filtrando apenas as colunas que contêm valores True ou False\n",
    "# colunas_com_true_false = [col('attributes.' + c) for c in colunas_atributos\n",
    "#                           if business_sem_duplicatas.filter(col('attributes.' + c).isin(['True', 'False'])).count() > 0]\n",
    "\n",
    "# # Selecionando as colunas originais do DataFrame mais as colunas de atributos que contêm True ou False\n",
    "# bussines_att_filtrado = business_sem_duplicatas.select(['*'] + colunas_com_true_false)\n",
    "# bussines_att_filtrado.show()\n"
   ]
  },
  {
   "cell_type": "code",
   "execution_count": 20,
   "metadata": {},
   "outputs": [],
   "source": [
    "business_sem_duplicatas_filtrado = business_sem_duplicatas.select(\"business_id\", \"city\", \"is_open\", \"review_count\", \"stars\", \"state\", \"category\")"
   ]
  },
  {
   "cell_type": "code",
   "execution_count": 21,
   "metadata": {},
   "outputs": [],
   "source": [
    "# yelp_tip \n",
    "# yelp_tip.show()\n",
    "\n",
    "# Mantendo apenas os business_id's da base bussines_att_filtrado\n",
    "tip_filtrado = yelp_tip.select('business_id', 'compliment_count')\n",
    "tip_filtrado = business_sem_duplicatas_filtrado.join(tip_filtrado, on='business_id', how='inner').select(tip_filtrado.columns)\n",
    "\n",
    "# #Calculando a quantidade de elogios por business_id\n",
    "tip_sum_compliment = tip_filtrado.groupBy('business_id').agg(sum('compliment_count').alias('total_compliments'))\n",
    "# tip_sum_compliment.show()"
   ]
  },
  {
   "cell_type": "code",
   "execution_count": 22,
   "metadata": {},
   "outputs": [],
   "source": [
    "# yelp_review \n",
    "# yelp_review.show()\n",
    "\n",
    "# Mantendo apenas os business_id's da base bussines_att_filtrado\n",
    "review_filtrado = yelp_review.select('business_id', 'stars', 'user_id')\n",
    "review_filtrado = business_sem_duplicatas_filtrado.join(review_filtrado, on='business_id', how='inner').select(review_filtrado.business_id, review_filtrado.stars, review_filtrado.user_id)\n",
    "\n",
    "#Criando um novo dataframe com a média das estrelas\n",
    "df_avg_review_stars = review_filtrado.groupBy('business_id').agg(mean('stars'))\n",
    "# df_avg_review_stars.show()\n",
    "\n",
    "# Classificando as médias das estrelas em categorias \n",
    "df_avg_review_stars = df_avg_review_stars.withColumn('classification', \n",
    "                                                     when(df_avg_review_stars['avg(stars)'] > 3, 'positiva')\n",
    "                                                     .when(df_avg_review_stars['avg(stars)'] == 3, 'neutra')\n",
    "                                                     .otherwise('negativa'))\n",
    "\n"
   ]
  },
  {
   "cell_type": "code",
   "execution_count": 23,
   "metadata": {},
   "outputs": [],
   "source": [
    "# yelp_checkin \n",
    "# yelp_checkin.show()\n",
    "\n",
    "# Mantendo apenas os business_id's da base bussines_att_filtrado\n",
    "checkin_filtrado = business_sem_duplicatas_filtrado.join(yelp_checkin, on='business_id', how='inner').select(yelp_checkin.columns)\n",
    "\n",
    "# Separando as datas em linhas\n",
    "checkin_exploded = checkin_filtrado.select('*',explode(split(\"date\", \", \")).alias('data_checkin'))\n",
    "\n",
    "# Fazendo contagem do business_id por data\n",
    "checkin_agrupado = checkin_exploded.groupBy('business_id').agg(countDistinct('data_checkin').alias('quantidade_datas'))\n",
    "# cont_date.show()\n"
   ]
  },
  {
   "cell_type": "code",
   "execution_count": 24,
   "metadata": {},
   "outputs": [],
   "source": [
    "# yelp_user \n",
    "# yelp_user.show()\n",
    "# review_filtrado.show()\n",
    "\n",
    "# Mantendo apenas os business_id's da base bussines_att_filtrado\n",
    "user_filtrado = yelp_user.join(review_filtrado, on='user_id', how='inner').select(yelp_user.average_stars, yelp_user.compliment_cool,  review_filtrado.business_id)\n",
    "\n",
    "# Fazendo contagem do business_id por data\n",
    "user_agrupado = user_filtrado.groupBy('business_id').agg(countDistinct('compliment_cool').alias('qtd_compliment_cool'))\n"
   ]
  },
  {
   "cell_type": "code",
   "execution_count": 25,
   "metadata": {},
   "outputs": [],
   "source": [
    "dataframes = [\n",
    "    (business_sem_duplicatas_filtrado, \"business\"),\n",
    "    (tip_sum_compliment, \"tip\"),\n",
    "    (df_avg_review_stars, \"review\"),\n",
    "    (checkin_agrupado, \"checkin\")   \n",
    "]"
   ]
  },
  {
   "cell_type": "code",
   "execution_count": 26,
   "metadata": {},
   "outputs": [],
   "source": [
    "# Conexão com o PostgreSQL\n",
    "jdbc_hostname = \"localhost\"  \n",
    "jdbc_port = 5432  \n",
    "jdbc_database = \"postgres\"\n",
    "jdbc_username = \"postgres\"\n",
    "jdbc_password = \"password\"\n",
    "jdbc_url = f\"jdbc:postgresql://{jdbc_hostname}:{jdbc_port}/{jdbc_database}\"\n",
    "\n",
    "\n",
    "# Escrever o DataFrame no PostgreSQL\n",
    "for df, table_name in dataframes:\n",
    "    try:\n",
    "        df.write.jdbc(url=jdbc_url,\n",
    "                      table=table_name,\n",
    "                      mode=\"overwrite\",  \n",
    "                      properties={\"user\": jdbc_username, \"password\": jdbc_password, \"driver\": \"org.postgresql.Driver\"})\n",
    "    \n",
    "\n",
    "    except Exception as e:\n",
    "        traceback.print_exc()"
   ]
  }
 ],
 "metadata": {
  "kernelspec": {
   "display_name": "Python (myenv)",
   "language": "python",
   "name": "myenv"
  },
  "language_info": {
   "codemirror_mode": {
    "name": "ipython",
    "version": 3
   },
   "file_extension": ".py",
   "mimetype": "text/x-python",
   "name": "python",
   "nbconvert_exporter": "python",
   "pygments_lexer": "ipython3",
   "version": "3.12.1"
  }
 },
 "nbformat": 4,
 "nbformat_minor": 2
}
